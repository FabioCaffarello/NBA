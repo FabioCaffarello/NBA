{
 "cells": [
  {
   "cell_type": "markdown",
   "metadata": {},
   "source": [
    "# IMPORTS"
   ]
  },
  {
   "cell_type": "markdown",
   "metadata": {},
   "source": [
    "## libraries"
   ]
  },
  {
   "cell_type": "code",
   "execution_count": 1,
   "metadata": {},
   "outputs": [],
   "source": [
    "import pandas as pd\n",
    "import numpy as np"
   ]
  },
  {
   "cell_type": "markdown",
   "metadata": {},
   "source": [
    "## Load Dataset"
   ]
  },
  {
   "cell_type": "code",
   "execution_count": 2,
   "metadata": {
    "jupyter": {
     "source_hidden": true
    }
   },
   "outputs": [],
   "source": [
    "dfRaw = pd.read_csv(\"../data/all_Seasons_MVP.csv\")"
   ]
  },
  {
   "cell_type": "markdown",
   "metadata": {},
   "source": [
    "# DATA DESCRIPTION"
   ]
  },
  {
   "cell_type": "code",
   "execution_count": 3,
   "metadata": {
    "jupyter": {
     "source_hidden": true
    }
   },
   "outputs": [],
   "source": [
    "dfRaw1 = dfRaw.copy()"
   ]
  },
  {
   "cell_type": "markdown",
   "metadata": {},
   "source": [
    "## Columns"
   ]
  },
  {
   "cell_type": "code",
   "execution_count": 4,
   "metadata": {
    "jupyter": {
     "source_hidden": true
    }
   },
   "outputs": [
    {
     "data": {
      "text/plain": [
       "Index(['Rk', 'Player', 'Pos', 'Age', 'Tm', 'G', 'GS', 'MP', 'FG', 'FGA', 'FG%',\n",
       "       '3P', '3PA', '3P%', '2P', '2PA', '2P%', 'eFG%', 'FT', 'FTA', 'FT%',\n",
       "       'ORB', 'DRB', 'TRB', 'AST', 'STL', 'BLK', 'TOV', 'PF', 'PTS', 'Year',\n",
       "       'Season', 'MVP'],\n",
       "      dtype='object')"
      ]
     },
     "execution_count": 4,
     "metadata": {},
     "output_type": "execute_result"
    }
   ],
   "source": [
    "dfRaw1.columns"
   ]
  },
  {
   "cell_type": "markdown",
   "metadata": {},
   "source": [
    "## Data Dimensions"
   ]
  },
  {
   "cell_type": "code",
   "execution_count": 5,
   "metadata": {
    "jupyter": {
     "source_hidden": true
    }
   },
   "outputs": [
    {
     "name": "stdout",
     "output_type": "stream",
     "text": [
      "Number of Rows: 19123\n",
      "Number of Columns: 33\n"
     ]
    }
   ],
   "source": [
    "print(f'Number of Rows: {dfRaw1.shape[0]}')\n",
    "print(f'Number of Columns: {dfRaw1.shape[1]}')"
   ]
  },
  {
   "cell_type": "markdown",
   "metadata": {},
   "source": [
    "## Data Types"
   ]
  },
  {
   "cell_type": "code",
   "execution_count": 6,
   "metadata": {},
   "outputs": [
    {
     "data": {
      "text/plain": [
       "Rk          int64\n",
       "Player     object\n",
       "Pos        object\n",
       "Age         int64\n",
       "Tm         object\n",
       "G           int64\n",
       "GS          int64\n",
       "MP          int64\n",
       "FG          int64\n",
       "FGA         int64\n",
       "FG%       float64\n",
       "3P          int64\n",
       "3PA         int64\n",
       "3P%       float64\n",
       "2P          int64\n",
       "2PA         int64\n",
       "2P%       float64\n",
       "eFG%      float64\n",
       "FT          int64\n",
       "FTA         int64\n",
       "FT%       float64\n",
       "ORB         int64\n",
       "DRB         int64\n",
       "TRB         int64\n",
       "AST         int64\n",
       "STL         int64\n",
       "BLK         int64\n",
       "TOV         int64\n",
       "PF          int64\n",
       "PTS         int64\n",
       "Year        int64\n",
       "Season     object\n",
       "MVP        object\n",
       "dtype: object"
      ]
     },
     "execution_count": 6,
     "metadata": {},
     "output_type": "execute_result"
    }
   ],
   "source": [
    "dfRaw1.dtypes"
   ]
  },
  {
   "cell_type": "markdown",
   "metadata": {},
   "source": [
    "## Convert Type object to category"
   ]
  },
  {
   "cell_type": "code",
   "execution_count": 14,
   "metadata": {},
   "outputs": [],
   "source": [
    "dfRaw1[dfRaw1.select_dtypes(include=['object']).columns] = dfRaw1.select_dtypes(include=['object']).astype('category')"
   ]
  },
  {
   "cell_type": "markdown",
   "metadata": {},
   "source": [
    "# Feature Engineering"
   ]
  },
  {
   "cell_type": "markdown",
   "metadata": {},
   "source": [
    "## Target"
   ]
  },
  {
   "cell_type": "code",
   "execution_count": 16,
   "metadata": {},
   "outputs": [],
   "source": [
    "dfRaw1['Target'] = np.where(dfRaw1['MVP'].isnull(),0,1)"
   ]
  },
  {
   "cell_type": "markdown",
   "metadata": {},
   "source": [
    "## Features"
   ]
  },
  {
   "cell_type": "code",
   "execution_count": 18,
   "metadata": {},
   "outputs": [],
   "source": [
    "target = 'Target'\n",
    "feat1 = ['Age', 'FG%', '3P%', '2P%', 'eFG%', 'FT%']\n",
    "feat2 = ['GS_PG','MP_PG','FG_PG','FGA_PG','3P_PG','3PA_PG','2P_PG','2PA_PG','FT_PG','FTA_PG','ORB_PG','DRB_PG','TRB_PG','PTS_PG','PF_PG','TOV_PG','BLK_PG','STL_PG','AST_PG']\n",
    "features = feat1+feat2"
   ]
  },
  {
   "cell_type": "code",
   "execution_count": 20,
   "metadata": {},
   "outputs": [],
   "source": [
    "originVar = ['GS','MP','FG','FGA','3P','3PA','2P','2PA','FT','FTA','ORB','DRB','TRB','PTS','PF','TOV','BLK','STL','AST']\n",
    "for var in range(len(originVar)):\n",
    "    dfRaw1.loc[:,feat2[var]] = dfRaw1.loc[:,originVar[var]] / dfRaw1.loc[:,'G']"
   ]
  },
  {
   "cell_type": "code",
   "execution_count": 30,
   "metadata": {},
   "outputs": [
    {
     "data": {
      "text/plain": [
       "Index(['FG%', '3P%', '2P%', 'eFG%', 'FT%', 'MVP'], dtype='object')"
      ]
     },
     "execution_count": 30,
     "metadata": {},
     "output_type": "execute_result"
    }
   ],
   "source": []
  },
  {
   "cell_type": "code",
   "execution_count": 29,
   "metadata": {},
   "outputs": [],
   "source": [
    "nullColumns = dfRaw1.columns[dfRaw1.isnull().any()]"
   ]
  },
  {
   "cell_type": "code",
   "execution_count": 45,
   "metadata": {},
   "outputs": [
    {
     "name": "stdout",
     "output_type": "stream",
     "text": [
      "1\n",
      "1\n",
      "1\n",
      "1\n",
      "1\n"
     ]
    }
   ],
   "source": [
    "for col in nullColumns:\n",
    "    if dfRaw1[col].dtype == 'int64' or dfRaw1[col].dtype == 'float64':\n",
    "        print(1)"
   ]
  },
  {
   "cell_type": "code",
   "execution_count": null,
   "metadata": {},
   "outputs": [],
   "source": []
  }
 ],
 "metadata": {
  "kernelspec": {
   "display_name": "Python 3",
   "language": "python",
   "name": "python3"
  },
  "language_info": {
   "codemirror_mode": {
    "name": "ipython",
    "version": 3
   },
   "file_extension": ".py",
   "mimetype": "text/x-python",
   "name": "python",
   "nbconvert_exporter": "python",
   "pygments_lexer": "ipython3",
   "version": "3.8.3"
  }
 },
 "nbformat": 4,
 "nbformat_minor": 4
}
