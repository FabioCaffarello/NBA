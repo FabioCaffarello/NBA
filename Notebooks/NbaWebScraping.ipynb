{
 "cells": [
  {
   "cell_type": "markdown",
   "metadata": {},
   "source": [
    "# Libraries"
   ]
  },
  {
   "cell_type": "code",
   "execution_count": 3,
   "metadata": {
    "ExecuteTime": {
     "end_time": "2020-10-17T23:12:38.036327Z",
     "start_time": "2020-10-17T23:12:37.543191Z"
    }
   },
   "outputs": [],
   "source": [
    "import pandas as pd\n",
    "import requests\n",
    "from bs4 import BeautifulSoup"
   ]
  },
  {
   "cell_type": "code",
   "execution_count": 4,
   "metadata": {
    "ExecuteTime": {
     "end_time": "2020-10-17T23:12:38.595814Z",
     "start_time": "2020-10-17T23:12:38.591825Z"
    }
   },
   "outputs": [],
   "source": [
    "import sys\n",
    "sys.path.append('../')"
   ]
  },
  {
   "cell_type": "code",
   "execution_count": 5,
   "metadata": {
    "ExecuteTime": {
     "end_time": "2020-10-17T23:12:39.556968Z",
     "start_time": "2020-10-17T23:12:39.540768Z"
    }
   },
   "outputs": [],
   "source": [
    "from NbaFunctions import *"
   ]
  },
  {
   "cell_type": "markdown",
   "metadata": {},
   "source": [
    "# Scraping Stats"
   ]
  },
  {
   "cell_type": "markdown",
   "metadata": {},
   "source": [
    "## All Seasons Stats"
   ]
  },
  {
   "cell_type": "code",
   "execution_count": 9,
   "metadata": {
    "ExecuteTime": {
     "end_time": "2020-10-17T23:14:52.268690Z",
     "start_time": "2020-10-17T23:13:56.577206Z"
    }
   },
   "outputs": [
    {
     "name": "stdout",
     "output_type": "stream",
     "text": [
      "Extracting data from the 1985 season\n",
      "Extracting data from the 1986 season\n",
      "Extracting data from the 1987 season\n",
      "Extracting data from the 1988 season\n",
      "Extracting data from the 1989 season\n",
      "Extracting data from the 1990 season\n",
      "Extracting data from the 1991 season\n",
      "Extracting data from the 1992 season\n",
      "Extracting data from the 1993 season\n",
      "Extracting data from the 1994 season\n",
      "Extracting data from the 1995 season\n",
      "Extracting data from the 1996 season\n",
      "Extracting data from the 1997 season\n",
      "Extracting data from the 1998 season\n",
      "Extracting data from the 1999 season\n",
      "Extracting data from the 2000 season\n",
      "Extracting data from the 2001 season\n",
      "Extracting data from the 2002 season\n",
      "Extracting data from the 2003 season\n",
      "Extracting data from the 2004 season\n",
      "Extracting data from the 2005 season\n",
      "Extracting data from the 2006 season\n",
      "Extracting data from the 2007 season\n",
      "Extracting data from the 2008 season\n",
      "Extracting data from the 2009 season\n",
      "Extracting data from the 2010 season\n",
      "Extracting data from the 2011 season\n",
      "Extracting data from the 2012 season\n",
      "Extracting data from the 2013 season\n",
      "Extracting data from the 2014 season\n",
      "Extracting data from the 2015 season\n",
      "Extracting data from the 2016 season\n",
      "Extracting data from the 2017 season\n",
      "Extracting data from the 2018 season\n",
      "Extracting data from the 2019 season\n",
      "Extracting data from the 2020 season\n"
     ]
    }
   ],
   "source": [
    "url = 'https://www.basketball-reference.com/leagues/NBA_{}_totals.html'\n",
    "df = scrape_season_stats(url, 1985, 2020)"
   ]
  },
  {
   "cell_type": "code",
   "execution_count": 10,
   "metadata": {
    "ExecuteTime": {
     "end_time": "2020-10-17T23:14:52.299573Z",
     "start_time": "2020-10-17T23:14:52.270650Z"
    }
   },
   "outputs": [
    {
     "data": {
      "text/html": [
       "<div>\n",
       "<style scoped>\n",
       "    .dataframe tbody tr th:only-of-type {\n",
       "        vertical-align: middle;\n",
       "    }\n",
       "\n",
       "    .dataframe tbody tr th {\n",
       "        vertical-align: top;\n",
       "    }\n",
       "\n",
       "    .dataframe thead th {\n",
       "        text-align: right;\n",
       "    }\n",
       "</style>\n",
       "<table border=\"1\" class=\"dataframe\">\n",
       "  <thead>\n",
       "    <tr style=\"text-align: right;\">\n",
       "      <th></th>\n",
       "      <th>Rk</th>\n",
       "      <th>Player</th>\n",
       "      <th>Pos</th>\n",
       "      <th>Age</th>\n",
       "      <th>Tm</th>\n",
       "      <th>G</th>\n",
       "      <th>GS</th>\n",
       "      <th>MP</th>\n",
       "      <th>FG</th>\n",
       "      <th>FGA</th>\n",
       "      <th>...</th>\n",
       "      <th>DRB</th>\n",
       "      <th>TRB</th>\n",
       "      <th>AST</th>\n",
       "      <th>STL</th>\n",
       "      <th>BLK</th>\n",
       "      <th>TOV</th>\n",
       "      <th>PF</th>\n",
       "      <th>PTS</th>\n",
       "      <th>Year</th>\n",
       "      <th>Season</th>\n",
       "    </tr>\n",
       "  </thead>\n",
       "  <tbody>\n",
       "    <tr>\n",
       "      <th>0</th>\n",
       "      <td>1</td>\n",
       "      <td>Kareem Abdul-Jabbar*</td>\n",
       "      <td>C</td>\n",
       "      <td>37</td>\n",
       "      <td>LAL</td>\n",
       "      <td>79</td>\n",
       "      <td>79</td>\n",
       "      <td>2630</td>\n",
       "      <td>723</td>\n",
       "      <td>1207</td>\n",
       "      <td>...</td>\n",
       "      <td>460</td>\n",
       "      <td>622</td>\n",
       "      <td>249</td>\n",
       "      <td>63</td>\n",
       "      <td>162</td>\n",
       "      <td>197</td>\n",
       "      <td>238</td>\n",
       "      <td>1735</td>\n",
       "      <td>1985</td>\n",
       "      <td>1984-85</td>\n",
       "    </tr>\n",
       "    <tr>\n",
       "      <th>1</th>\n",
       "      <td>2</td>\n",
       "      <td>Alvan Adams</td>\n",
       "      <td>PF</td>\n",
       "      <td>30</td>\n",
       "      <td>PHO</td>\n",
       "      <td>82</td>\n",
       "      <td>69</td>\n",
       "      <td>2136</td>\n",
       "      <td>476</td>\n",
       "      <td>915</td>\n",
       "      <td>...</td>\n",
       "      <td>347</td>\n",
       "      <td>500</td>\n",
       "      <td>308</td>\n",
       "      <td>115</td>\n",
       "      <td>48</td>\n",
       "      <td>197</td>\n",
       "      <td>254</td>\n",
       "      <td>1202</td>\n",
       "      <td>1985</td>\n",
       "      <td>1984-85</td>\n",
       "    </tr>\n",
       "    <tr>\n",
       "      <th>2</th>\n",
       "      <td>3</td>\n",
       "      <td>Mark Aguirre</td>\n",
       "      <td>SF</td>\n",
       "      <td>25</td>\n",
       "      <td>DAL</td>\n",
       "      <td>80</td>\n",
       "      <td>79</td>\n",
       "      <td>2699</td>\n",
       "      <td>794</td>\n",
       "      <td>1569</td>\n",
       "      <td>...</td>\n",
       "      <td>289</td>\n",
       "      <td>477</td>\n",
       "      <td>249</td>\n",
       "      <td>60</td>\n",
       "      <td>24</td>\n",
       "      <td>253</td>\n",
       "      <td>250</td>\n",
       "      <td>2055</td>\n",
       "      <td>1985</td>\n",
       "      <td>1984-85</td>\n",
       "    </tr>\n",
       "  </tbody>\n",
       "</table>\n",
       "<p>3 rows × 32 columns</p>\n",
       "</div>"
      ],
      "text/plain": [
       "  Rk                Player Pos Age   Tm   G  GS    MP   FG   FGA  ...  DRB  \\\n",
       "0  1  Kareem Abdul-Jabbar*   C  37  LAL  79  79  2630  723  1207  ...  460   \n",
       "1  2           Alvan Adams  PF  30  PHO  82  69  2136  476   915  ...  347   \n",
       "2  3          Mark Aguirre  SF  25  DAL  80  79  2699  794  1569  ...  289   \n",
       "\n",
       "   TRB  AST  STL  BLK  TOV   PF   PTS  Year   Season  \n",
       "0  622  249   63  162  197  238  1735  1985  1984-85  \n",
       "1  500  308  115   48  197  254  1202  1985  1984-85  \n",
       "2  477  249   60   24  253  250  2055  1985  1984-85  \n",
       "\n",
       "[3 rows x 32 columns]"
      ]
     },
     "execution_count": 10,
     "metadata": {},
     "output_type": "execute_result"
    }
   ],
   "source": [
    "df.head(3)"
   ]
  },
  {
   "cell_type": "markdown",
   "metadata": {},
   "source": [
    "## All Seasons Leaders"
   ]
  },
  {
   "cell_type": "code",
   "execution_count": 11,
   "metadata": {
    "ExecuteTime": {
     "end_time": "2020-10-17T23:15:00.729847Z",
     "start_time": "2020-10-17T23:15:00.501471Z"
    }
   },
   "outputs": [],
   "source": [
    "url2 = \"https://www.basketball-reference.com/leagues/\"\n",
    "dfAll = scrape_all_seasons(url2)"
   ]
  },
  {
   "cell_type": "code",
   "execution_count": 12,
   "metadata": {
    "ExecuteTime": {
     "end_time": "2020-10-17T23:15:01.589087Z",
     "start_time": "2020-10-17T23:15:01.574105Z"
    }
   },
   "outputs": [
    {
     "data": {
      "text/html": [
       "<div>\n",
       "<style scoped>\n",
       "    .dataframe tbody tr th:only-of-type {\n",
       "        vertical-align: middle;\n",
       "    }\n",
       "\n",
       "    .dataframe tbody tr th {\n",
       "        vertical-align: top;\n",
       "    }\n",
       "\n",
       "    .dataframe thead th {\n",
       "        text-align: right;\n",
       "    }\n",
       "</style>\n",
       "<table border=\"1\" class=\"dataframe\">\n",
       "  <thead>\n",
       "    <tr style=\"text-align: right;\">\n",
       "      <th></th>\n",
       "      <th>Season</th>\n",
       "      <th>Lg</th>\n",
       "      <th>Champion</th>\n",
       "      <th>MVP</th>\n",
       "      <th>Rookie of the Year</th>\n",
       "      <th>Points</th>\n",
       "      <th>Rebounds</th>\n",
       "      <th>Assists</th>\n",
       "      <th>Win Shares</th>\n",
       "    </tr>\n",
       "  </thead>\n",
       "  <tbody>\n",
       "    <tr>\n",
       "      <th>0</th>\n",
       "      <td>2019-20</td>\n",
       "      <td>NBA</td>\n",
       "      <td>Los Angeles Lakers</td>\n",
       "      <td>G. Antetokounmpo</td>\n",
       "      <td>J. Morant</td>\n",
       "      <td>J. Harden (2335)</td>\n",
       "      <td>R. Gobert (916)</td>\n",
       "      <td>L. James (684)</td>\n",
       "      <td>J. Harden (13.1)</td>\n",
       "    </tr>\n",
       "    <tr>\n",
       "      <th>1</th>\n",
       "      <td>2018-19</td>\n",
       "      <td>NBA</td>\n",
       "      <td>Toronto Raptors</td>\n",
       "      <td>G. Antetokounmpo</td>\n",
       "      <td>L. Dončić</td>\n",
       "      <td>J. Harden (2818)</td>\n",
       "      <td>A. Drummond (1232)</td>\n",
       "      <td>R. Westbrook (784)</td>\n",
       "      <td>J. Harden (15.2)</td>\n",
       "    </tr>\n",
       "    <tr>\n",
       "      <th>2</th>\n",
       "      <td>2017-18</td>\n",
       "      <td>NBA</td>\n",
       "      <td>Golden State Warriors</td>\n",
       "      <td>J. Harden</td>\n",
       "      <td>B. Simmons</td>\n",
       "      <td>L. James (2251)</td>\n",
       "      <td>A. Drummond (1247)</td>\n",
       "      <td>R. Westbrook (820)</td>\n",
       "      <td>J. Harden (15.4)</td>\n",
       "    </tr>\n",
       "  </tbody>\n",
       "</table>\n",
       "</div>"
      ],
      "text/plain": [
       "    Season   Lg               Champion               MVP Rookie of the Year  \\\n",
       "0  2019-20  NBA     Los Angeles Lakers  G. Antetokounmpo          J. Morant   \n",
       "1  2018-19  NBA        Toronto Raptors  G. Antetokounmpo          L. Dončić   \n",
       "2  2017-18  NBA  Golden State Warriors         J. Harden         B. Simmons   \n",
       "\n",
       "             Points            Rebounds             Assists        Win Shares  \n",
       "0  J. Harden (2335)     R. Gobert (916)      L. James (684)  J. Harden (13.1)  \n",
       "1  J. Harden (2818)  A. Drummond (1232)  R. Westbrook (784)  J. Harden (15.2)  \n",
       "2   L. James (2251)  A. Drummond (1247)  R. Westbrook (820)  J. Harden (15.4)  "
      ]
     },
     "execution_count": 12,
     "metadata": {},
     "output_type": "execute_result"
    }
   ],
   "source": [
    "dfAll.head(3)"
   ]
  },
  {
   "cell_type": "markdown",
   "metadata": {},
   "source": [
    "# Convert to .csv"
   ]
  },
  {
   "cell_type": "code",
   "execution_count": 13,
   "metadata": {
    "ExecuteTime": {
     "end_time": "2020-10-17T23:15:18.088932Z",
     "start_time": "2020-10-17T23:15:17.937627Z"
    }
   },
   "outputs": [],
   "source": [
    "#Writing CSV of season stats\n",
    "df.to_csv('../data/season_stats.csv',index=False)\n",
    "dfAll.to_csv('../data/all_season_leaders.csv',index=False)"
   ]
  }
 ],
 "metadata": {
  "hide_input": false,
  "kernelspec": {
   "display_name": "Python 3",
   "language": "python",
   "name": "python3"
  },
  "language_info": {
   "codemirror_mode": {
    "name": "ipython",
    "version": 3
   },
   "file_extension": ".py",
   "mimetype": "text/x-python",
   "name": "python",
   "nbconvert_exporter": "python",
   "pygments_lexer": "ipython3",
   "version": "3.7.1"
  },
  "toc": {
   "base_numbering": 1,
   "nav_menu": {},
   "number_sections": true,
   "sideBar": true,
   "skip_h1_title": false,
   "title_cell": "Table of Contents",
   "title_sidebar": "Contents",
   "toc_cell": false,
   "toc_position": {},
   "toc_section_display": true,
   "toc_window_display": false
  }
 },
 "nbformat": 4,
 "nbformat_minor": 4
}
